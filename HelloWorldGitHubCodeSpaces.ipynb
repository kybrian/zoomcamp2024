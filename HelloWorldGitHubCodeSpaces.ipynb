{
 "cells": [
  {
   "cell_type": "code",
   "execution_count": null,
   "id": "6918a3af-2701-422f-958d-77901f6df354",
   "metadata": {},
   "outputs": [
    {
     "name": "stdout",
     "output_type": "stream",
     "text": [
      "Hello World! in GitHub codespaces\n"
     ]
    }
   ],
   "source": [
    "print(\"Hello World! in GitHub codespaces\")"
   ]
  },
  {
   "cell_type": "code",
   "execution_count": 1,
   "id": "8be0aa05-3a32-43bd-abbe-9586f7360727",
   "metadata": {},
   "outputs": [
    {
     "name": "stdout",
     "output_type": "stream",
     "text": [
      "Jupyter in VS Code\n"
     ]
    }
   ],
   "source": [
    "print(\"Jupyter in VS Code\")"
   ]
  },
  {
   "cell_type": "code",
   "execution_count": null,
   "id": "36ffb0b9",
   "metadata": {},
   "outputs": [],
   "source": []
  }
 ],
 "metadata": {
  "kernelspec": {
   "display_name": "Python 3 (ipykernel)",
   "language": "python",
   "name": "python3"
  },
  "language_info": {
   "codemirror_mode": {
    "name": "ipython",
    "version": 3
   },
   "file_extension": ".py",
   "mimetype": "text/x-python",
   "name": "python",
   "nbconvert_exporter": "python",
   "pygments_lexer": "ipython3",
   "version": "3.10.13"
  }
 },
 "nbformat": 4,
 "nbformat_minor": 5
}
